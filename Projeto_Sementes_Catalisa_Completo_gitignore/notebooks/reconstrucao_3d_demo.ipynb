{
  "cells": [
    {
      "cell_type": "markdown",
      "metadata": {},
      "source": [
        "# Demonstra\u00e7\u00e3o de Reconstru\u00e7\u00e3o 3D de Sementes\n",
        "Este notebook mostra como utilizar o script `reconstrucao_3d.py` para processar uma nuvem de pontos e gerar uma malha 3D da semente.\n",
        "\n",
        "\u26a0\ufe0f Certifique-se de que o arquivo `.ply` est\u00e1 presente no diret\u00f3rio `data/`."
      ]
    },
    {
      "cell_type": "code",
      "execution_count": null,
      "metadata": {},
      "outputs": [],
      "source": [
        "# Instalar depend\u00eancias (caso ainda n\u00e3o esteja no ambiente)\n",
        "!pip install open3d numpy"
      ]
    },
    {
      "cell_type": "code",
      "execution_count": null,
      "metadata": {},
      "outputs": [],
      "source": [
        "# Importar fun\u00e7\u00e3o de reconstru\u00e7\u00e3o\n",
        "from src.reconstrucao_3d import reconstruir_3d\n",
        "\n",
        "# Executar reconstru\u00e7\u00e3o com exemplo\n",
        "reconstruir_3d(\"../data/nuvem_semente_dummy.ply\")"
      ]
    }
  ],
  "metadata": {
    "kernelspec": {
      "display_name": "Python 3",
      "language": "python",
      "name": "python3"
    },
    "language_info": {
      "name": "python",
      "version": "3.8"
    }
  },
  "nbformat": 4,
  "nbformat_minor": 2
}